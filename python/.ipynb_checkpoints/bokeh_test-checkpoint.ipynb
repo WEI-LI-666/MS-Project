{
 "cells": [
  {
   "cell_type": "code",
   "execution_count": 1,
   "metadata": {
    "scrolled": true
   },
   "outputs": [],
   "source": [
    "from bokeh.plotting import figure, save, show, output_file, output_notebook\n",
    "from bokeh.models import GeoJSONDataSource, ColumnDataSource, Range1d, HoverTool, LogColorMapper, BoxZoomTool\n",
    "from bokeh.resources import CDN\n",
    "from bokeh.layouts import row\n",
    "from bokeh.palettes import Blues6 as palette\n",
    "from bokeh.models.widgets import RadioButtonGroup\n",
    "from bokeh.models.callbacks import CustomJS\n",
    "import geopandas as gpd\n",
    "import numpy as np\n",
    "import pandas as pd"
   ]
  },
  {
   "cell_type": "code",
   "execution_count": 2,
   "metadata": {},
   "outputs": [],
   "source": [
    "df = pd.read_excel(\"ex.xlsx\", encoding='utf-8')\n",
    "#PATH = r\"mapdata_t/TOWN_MOI_1071031.shp\"\n",
    "PATH = r\"mapdata_c/COUNTY_MOI_1070516.shp\"\n",
    "gdf = gpd.read_file(PATH, encoding='utf-8') #全台灣村里界圖\n",
    "gdf = gdf.to_crs({'init' :'epsg:4326'})\n",
    "palette.reverse()"
   ]
  },
  {
   "cell_type": "code",
   "execution_count": 3,
   "metadata": {},
   "outputs": [
    {
     "data": {
      "text/plain": [
       "Index(['COUNTYID', 'COUNTYCODE', 'COUNTYNAME', 'COUNTYENG', 'geometry'], dtype='object')"
      ]
     },
     "execution_count": 3,
     "metadata": {},
     "output_type": "execute_result"
    }
   ],
   "source": [
    "gdf.columns"
   ]
  },
  {
   "cell_type": "code",
   "execution_count": 4,
   "metadata": {
    "scrolled": true
   },
   "outputs": [
    {
     "data": {
      "text/html": [
       "<div>\n",
       "<style scoped>\n",
       "    .dataframe tbody tr th:only-of-type {\n",
       "        vertical-align: middle;\n",
       "    }\n",
       "\n",
       "    .dataframe tbody tr th {\n",
       "        vertical-align: top;\n",
       "    }\n",
       "\n",
       "    .dataframe thead th {\n",
       "        text-align: right;\n",
       "    }\n",
       "</style>\n",
       "<table border=\"1\" class=\"dataframe\">\n",
       "  <thead>\n",
       "    <tr style=\"text-align: right;\">\n",
       "      <th></th>\n",
       "      <th>COUNTYID</th>\n",
       "      <th>COUNTYCODE</th>\n",
       "      <th>COUNTYNAME</th>\n",
       "      <th>COUNTYENG</th>\n",
       "      <th>geometry</th>\n",
       "    </tr>\n",
       "  </thead>\n",
       "  <tbody>\n",
       "    <tr>\n",
       "      <th>0</th>\n",
       "      <td>Z</td>\n",
       "      <td>09007</td>\n",
       "      <td>連江縣</td>\n",
       "      <td>Lienchiang County</td>\n",
       "      <td>(POLYGON ((119.9644519140001 25.94552317400007...</td>\n",
       "    </tr>\n",
       "    <tr>\n",
       "      <th>1</th>\n",
       "      <td>G</td>\n",
       "      <td>10002</td>\n",
       "      <td>宜蘭縣</td>\n",
       "      <td>Yilan County</td>\n",
       "      <td>(POLYGON ((121.9597084550001 24.84493697000005...</td>\n",
       "    </tr>\n",
       "    <tr>\n",
       "      <th>2</th>\n",
       "      <td>N</td>\n",
       "      <td>10007</td>\n",
       "      <td>彰化縣</td>\n",
       "      <td>Changhua County</td>\n",
       "      <td>POLYGON ((120.4565526600001 24.20718620500008,...</td>\n",
       "    </tr>\n",
       "    <tr>\n",
       "      <th>3</th>\n",
       "      <td>M</td>\n",
       "      <td>10008</td>\n",
       "      <td>南投縣</td>\n",
       "      <td>Nantou County</td>\n",
       "      <td>POLYGON ((121.2708644380001 24.23660985400005,...</td>\n",
       "    </tr>\n",
       "    <tr>\n",
       "      <th>4</th>\n",
       "      <td>P</td>\n",
       "      <td>10009</td>\n",
       "      <td>雲林縣</td>\n",
       "      <td>Yunlin County</td>\n",
       "      <td>(POLYGON ((120.081077282 23.52412216400006, 12...</td>\n",
       "    </tr>\n",
       "  </tbody>\n",
       "</table>\n",
       "</div>"
      ],
      "text/plain": [
       "  COUNTYID COUNTYCODE COUNTYNAME          COUNTYENG  \\\n",
       "0        Z      09007        連江縣  Lienchiang County   \n",
       "1        G      10002        宜蘭縣       Yilan County   \n",
       "2        N      10007        彰化縣    Changhua County   \n",
       "3        M      10008        南投縣      Nantou County   \n",
       "4        P      10009        雲林縣      Yunlin County   \n",
       "\n",
       "                                            geometry  \n",
       "0  (POLYGON ((119.9644519140001 25.94552317400007...  \n",
       "1  (POLYGON ((121.9597084550001 24.84493697000005...  \n",
       "2  POLYGON ((120.4565526600001 24.20718620500008,...  \n",
       "3  POLYGON ((121.2708644380001 24.23660985400005,...  \n",
       "4  (POLYGON ((120.081077282 23.52412216400006, 12...  "
      ]
     },
     "execution_count": 4,
     "metadata": {},
     "output_type": "execute_result"
    }
   ],
   "source": [
    "gdf.head()"
   ]
  },
  {
   "cell_type": "code",
   "execution_count": 5,
   "metadata": {},
   "outputs": [],
   "source": [
    "ndf = pd.merge(gdf, df)\n",
    "villages_shp = gpd.GeoDataFrame(ndf)"
   ]
  },
  {
   "cell_type": "code",
   "execution_count": 6,
   "metadata": {},
   "outputs": [],
   "source": [
    "def cartesian(x,n): \n",
    "    return np.vstack(np.array([np.array(np.meshgrid(*i)).T.reshape(-1,n) for i in x.values]))"
   ]
  },
  {
   "cell_type": "code",
   "execution_count": 7,
   "metadata": {},
   "outputs": [
    {
     "data": {
      "text/html": [
       "<div>\n",
       "<style scoped>\n",
       "    .dataframe tbody tr th:only-of-type {\n",
       "        vertical-align: middle;\n",
       "    }\n",
       "\n",
       "    .dataframe tbody tr th {\n",
       "        vertical-align: top;\n",
       "    }\n",
       "\n",
       "    .dataframe thead th {\n",
       "        text-align: right;\n",
       "    }\n",
       "</style>\n",
       "<table border=\"1\" class=\"dataframe\">\n",
       "  <thead>\n",
       "    <tr style=\"text-align: right;\">\n",
       "      <th></th>\n",
       "      <th>COUNTYID</th>\n",
       "      <th>COUNTYCODE</th>\n",
       "      <th>COUNTYNAME</th>\n",
       "      <th>COUNTYENG</th>\n",
       "      <th>geometry</th>\n",
       "      <th>RATE</th>\n",
       "    </tr>\n",
       "  </thead>\n",
       "  <tbody>\n",
       "    <tr>\n",
       "      <th>0</th>\n",
       "      <td>Z</td>\n",
       "      <td>09007</td>\n",
       "      <td>連江縣</td>\n",
       "      <td>Lienchiang County</td>\n",
       "      <td>(POLYGON ((119.9644519140001 25.94552317400007...</td>\n",
       "      <td>13.32</td>\n",
       "    </tr>\n",
       "    <tr>\n",
       "      <th>1</th>\n",
       "      <td>G</td>\n",
       "      <td>10002</td>\n",
       "      <td>宜蘭縣</td>\n",
       "      <td>Yilan County</td>\n",
       "      <td>(POLYGON ((121.9597084550001 24.84493697000005...</td>\n",
       "      <td>17.10</td>\n",
       "    </tr>\n",
       "    <tr>\n",
       "      <th>2</th>\n",
       "      <td>N</td>\n",
       "      <td>10007</td>\n",
       "      <td>彰化縣</td>\n",
       "      <td>Changhua County</td>\n",
       "      <td>POLYGON ((120.4565526600001 24.20718620500008,...</td>\n",
       "      <td>15.91</td>\n",
       "    </tr>\n",
       "    <tr>\n",
       "      <th>3</th>\n",
       "      <td>M</td>\n",
       "      <td>10008</td>\n",
       "      <td>南投縣</td>\n",
       "      <td>Nantou County</td>\n",
       "      <td>POLYGON ((121.2708644380001 24.23660985400005,...</td>\n",
       "      <td>15.08</td>\n",
       "    </tr>\n",
       "    <tr>\n",
       "      <th>4</th>\n",
       "      <td>P</td>\n",
       "      <td>10009</td>\n",
       "      <td>雲林縣</td>\n",
       "      <td>Yunlin County</td>\n",
       "      <td>(POLYGON ((120.081077282 23.52412216400006, 12...</td>\n",
       "      <td>14.35</td>\n",
       "    </tr>\n",
       "  </tbody>\n",
       "</table>\n",
       "</div>"
      ],
      "text/plain": [
       "  COUNTYID COUNTYCODE COUNTYNAME          COUNTYENG  \\\n",
       "0        Z      09007        連江縣  Lienchiang County   \n",
       "1        G      10002        宜蘭縣       Yilan County   \n",
       "2        N      10007        彰化縣    Changhua County   \n",
       "3        M      10008        南投縣      Nantou County   \n",
       "4        P      10009        雲林縣      Yunlin County   \n",
       "\n",
       "                                            geometry   RATE  \n",
       "0  (POLYGON ((119.9644519140001 25.94552317400007...  13.32  \n",
       "1  (POLYGON ((121.9597084550001 24.84493697000005...  17.10  \n",
       "2  POLYGON ((120.4565526600001 24.20718620500008,...  15.91  \n",
       "3  POLYGON ((121.2708644380001 24.23660985400005,...  15.08  \n",
       "4  (POLYGON ((120.081077282 23.52412216400006, 12...  14.35  "
      ]
     },
     "execution_count": 7,
     "metadata": {},
     "output_type": "execute_result"
    }
   ],
   "source": [
    "villages_shp.head()\n",
    "#villages_shp.shape"
   ]
  },
  {
   "cell_type": "code",
   "execution_count": 8,
   "metadata": {},
   "outputs": [],
   "source": [
    "villages_shp = gpd.GeoDataFrame(cartesian(villages_shp, 5+1),columns=villages_shp.columns)"
   ]
  },
  {
   "cell_type": "code",
   "execution_count": 9,
   "metadata": {},
   "outputs": [
    {
     "data": {
      "text/html": [
       "<div>\n",
       "<style scoped>\n",
       "    .dataframe tbody tr th:only-of-type {\n",
       "        vertical-align: middle;\n",
       "    }\n",
       "\n",
       "    .dataframe tbody tr th {\n",
       "        vertical-align: top;\n",
       "    }\n",
       "\n",
       "    .dataframe thead th {\n",
       "        text-align: right;\n",
       "    }\n",
       "</style>\n",
       "<table border=\"1\" class=\"dataframe\">\n",
       "  <thead>\n",
       "    <tr style=\"text-align: right;\">\n",
       "      <th></th>\n",
       "      <th>COUNTYID</th>\n",
       "      <th>COUNTYCODE</th>\n",
       "      <th>COUNTYNAME</th>\n",
       "      <th>COUNTYENG</th>\n",
       "      <th>geometry</th>\n",
       "      <th>RATE</th>\n",
       "    </tr>\n",
       "  </thead>\n",
       "  <tbody>\n",
       "    <tr>\n",
       "      <th>0</th>\n",
       "      <td>Z</td>\n",
       "      <td>09007</td>\n",
       "      <td>連江縣</td>\n",
       "      <td>Lienchiang County</td>\n",
       "      <td>POLYGON ((119.9644519140001 25.94552317400007,...</td>\n",
       "      <td>13.32</td>\n",
       "    </tr>\n",
       "    <tr>\n",
       "      <th>1</th>\n",
       "      <td>Z</td>\n",
       "      <td>09007</td>\n",
       "      <td>連江縣</td>\n",
       "      <td>Lienchiang County</td>\n",
       "      <td>POLYGON ((119.9646932640001 25.94687440200005,...</td>\n",
       "      <td>13.32</td>\n",
       "    </tr>\n",
       "    <tr>\n",
       "      <th>2</th>\n",
       "      <td>Z</td>\n",
       "      <td>09007</td>\n",
       "      <td>連江縣</td>\n",
       "      <td>Lienchiang County</td>\n",
       "      <td>POLYGON ((119.9643200390001 25.94638165700007,...</td>\n",
       "      <td>13.32</td>\n",
       "    </tr>\n",
       "    <tr>\n",
       "      <th>3</th>\n",
       "      <td>Z</td>\n",
       "      <td>09007</td>\n",
       "      <td>連江縣</td>\n",
       "      <td>Lienchiang County</td>\n",
       "      <td>POLYGON ((119.9848039630001 25.96429508900007,...</td>\n",
       "      <td>13.32</td>\n",
       "    </tr>\n",
       "    <tr>\n",
       "      <th>4</th>\n",
       "      <td>Z</td>\n",
       "      <td>09007</td>\n",
       "      <td>連江縣</td>\n",
       "      <td>Lienchiang County</td>\n",
       "      <td>POLYGON ((119.9853612840001 25.96461429900006,...</td>\n",
       "      <td>13.32</td>\n",
       "    </tr>\n",
       "    <tr>\n",
       "      <th>5</th>\n",
       "      <td>Z</td>\n",
       "      <td>09007</td>\n",
       "      <td>連江縣</td>\n",
       "      <td>Lienchiang County</td>\n",
       "      <td>POLYGON ((119.9893897520001 25.97037512200006,...</td>\n",
       "      <td>13.32</td>\n",
       "    </tr>\n",
       "  </tbody>\n",
       "</table>\n",
       "</div>"
      ],
      "text/plain": [
       "  COUNTYID COUNTYCODE COUNTYNAME          COUNTYENG  \\\n",
       "0        Z      09007        連江縣  Lienchiang County   \n",
       "1        Z      09007        連江縣  Lienchiang County   \n",
       "2        Z      09007        連江縣  Lienchiang County   \n",
       "3        Z      09007        連江縣  Lienchiang County   \n",
       "4        Z      09007        連江縣  Lienchiang County   \n",
       "5        Z      09007        連江縣  Lienchiang County   \n",
       "\n",
       "                                            geometry   RATE  \n",
       "0  POLYGON ((119.9644519140001 25.94552317400007,...  13.32  \n",
       "1  POLYGON ((119.9646932640001 25.94687440200005,...  13.32  \n",
       "2  POLYGON ((119.9643200390001 25.94638165700007,...  13.32  \n",
       "3  POLYGON ((119.9848039630001 25.96429508900007,...  13.32  \n",
       "4  POLYGON ((119.9853612840001 25.96461429900006,...  13.32  \n",
       "5  POLYGON ((119.9893897520001 25.97037512200006,...  13.32  "
      ]
     },
     "execution_count": 9,
     "metadata": {},
     "output_type": "execute_result"
    }
   ],
   "source": [
    "villages_shp.head(6)"
   ]
  },
  {
   "cell_type": "code",
   "execution_count": 10,
   "metadata": {},
   "outputs": [],
   "source": [
    "def getPolyCoords(row, geom, coord_type):\n",
    "    \"\"\"Returns the coordinates ('x' or 'y') of edges of a Polygon exterior\"\"\"\n",
    "\n",
    "    # Parse the exterior of the coordinate\n",
    "    exterior = row[geom].exterior\n",
    "\n",
    "    if coord_type == 'x':\n",
    "        # Get the x coordinates of the exterior\n",
    "        return list( exterior.coords.xy[0] )\n",
    "    elif coord_type == 'y':\n",
    "        # Get the y coordinates of the exterior\n",
    "        return list( exterior.coords.xy[1] )"
   ]
  },
  {
   "cell_type": "code",
   "execution_count": 11,
   "metadata": {},
   "outputs": [],
   "source": [
    "villages_shp['x'] = villages_shp.apply(getPolyCoords, geom='geometry', coord_type='x', axis=1)\n",
    "villages_shp['y'] = villages_shp.apply(getPolyCoords, geom='geometry', coord_type='y', axis=1)"
   ]
  },
  {
   "cell_type": "code",
   "execution_count": 12,
   "metadata": {},
   "outputs": [
    {
     "data": {
      "text/html": [
       "<div>\n",
       "<style scoped>\n",
       "    .dataframe tbody tr th:only-of-type {\n",
       "        vertical-align: middle;\n",
       "    }\n",
       "\n",
       "    .dataframe tbody tr th {\n",
       "        vertical-align: top;\n",
       "    }\n",
       "\n",
       "    .dataframe thead th {\n",
       "        text-align: right;\n",
       "    }\n",
       "</style>\n",
       "<table border=\"1\" class=\"dataframe\">\n",
       "  <thead>\n",
       "    <tr style=\"text-align: right;\">\n",
       "      <th></th>\n",
       "      <th>COUNTYID</th>\n",
       "      <th>COUNTYCODE</th>\n",
       "      <th>COUNTYNAME</th>\n",
       "      <th>COUNTYENG</th>\n",
       "      <th>geometry</th>\n",
       "      <th>RATE</th>\n",
       "      <th>x</th>\n",
       "      <th>y</th>\n",
       "    </tr>\n",
       "  </thead>\n",
       "  <tbody>\n",
       "    <tr>\n",
       "      <th>0</th>\n",
       "      <td>Z</td>\n",
       "      <td>09007</td>\n",
       "      <td>連江縣</td>\n",
       "      <td>Lienchiang County</td>\n",
       "      <td>POLYGON ((119.9644519140001 25.94552317400007,...</td>\n",
       "      <td>13.32</td>\n",
       "      <td>[119.96445191400005, 119.96426754100003, 119.9...</td>\n",
       "      <td>[25.945523174000073, 25.945488368000042, 25.94...</td>\n",
       "    </tr>\n",
       "    <tr>\n",
       "      <th>1</th>\n",
       "      <td>Z</td>\n",
       "      <td>09007</td>\n",
       "      <td>連江縣</td>\n",
       "      <td>Lienchiang County</td>\n",
       "      <td>POLYGON ((119.9646932640001 25.94687440200005,...</td>\n",
       "      <td>13.32</td>\n",
       "      <td>[119.96469326400006, 119.96469944500005, 119.9...</td>\n",
       "      <td>[25.94687440200005, 25.946863776000043, 25.946...</td>\n",
       "    </tr>\n",
       "    <tr>\n",
       "      <th>2</th>\n",
       "      <td>Z</td>\n",
       "      <td>09007</td>\n",
       "      <td>連江縣</td>\n",
       "      <td>Lienchiang County</td>\n",
       "      <td>POLYGON ((119.9643200390001 25.94638165700007,...</td>\n",
       "      <td>13.32</td>\n",
       "      <td>[119.96432003900009, 119.96411690100001, 119.9...</td>\n",
       "      <td>[25.946381657000074, 25.946294144000035, 25.94...</td>\n",
       "    </tr>\n",
       "    <tr>\n",
       "      <th>3</th>\n",
       "      <td>Z</td>\n",
       "      <td>09007</td>\n",
       "      <td>連江縣</td>\n",
       "      <td>Lienchiang County</td>\n",
       "      <td>POLYGON ((119.9848039630001 25.96429508900007,...</td>\n",
       "      <td>13.32</td>\n",
       "      <td>[119.9848039630001, 119.98479340300003, 119.98...</td>\n",
       "      <td>[25.964295089000075, 25.964292340000043, 25.96...</td>\n",
       "    </tr>\n",
       "    <tr>\n",
       "      <th>4</th>\n",
       "      <td>Z</td>\n",
       "      <td>09007</td>\n",
       "      <td>連江縣</td>\n",
       "      <td>Lienchiang County</td>\n",
       "      <td>POLYGON ((119.9853612840001 25.96461429900006,...</td>\n",
       "      <td>13.32</td>\n",
       "      <td>[119.98536128400006, 119.98530636400007, 119.9...</td>\n",
       "      <td>[25.964614299000065, 25.964601334000065, 25.96...</td>\n",
       "    </tr>\n",
       "    <tr>\n",
       "      <th>5</th>\n",
       "      <td>Z</td>\n",
       "      <td>09007</td>\n",
       "      <td>連江縣</td>\n",
       "      <td>Lienchiang County</td>\n",
       "      <td>POLYGON ((119.9893897520001 25.97037512200006,...</td>\n",
       "      <td>13.32</td>\n",
       "      <td>[119.9893897520001, 119.98963574700008, 119.98...</td>\n",
       "      <td>[25.970375122000064, 25.970334440000045, 25.97...</td>\n",
       "    </tr>\n",
       "  </tbody>\n",
       "</table>\n",
       "</div>"
      ],
      "text/plain": [
       "  COUNTYID COUNTYCODE COUNTYNAME          COUNTYENG  \\\n",
       "0        Z      09007        連江縣  Lienchiang County   \n",
       "1        Z      09007        連江縣  Lienchiang County   \n",
       "2        Z      09007        連江縣  Lienchiang County   \n",
       "3        Z      09007        連江縣  Lienchiang County   \n",
       "4        Z      09007        連江縣  Lienchiang County   \n",
       "5        Z      09007        連江縣  Lienchiang County   \n",
       "\n",
       "                                            geometry   RATE  \\\n",
       "0  POLYGON ((119.9644519140001 25.94552317400007,...  13.32   \n",
       "1  POLYGON ((119.9646932640001 25.94687440200005,...  13.32   \n",
       "2  POLYGON ((119.9643200390001 25.94638165700007,...  13.32   \n",
       "3  POLYGON ((119.9848039630001 25.96429508900007,...  13.32   \n",
       "4  POLYGON ((119.9853612840001 25.96461429900006,...  13.32   \n",
       "5  POLYGON ((119.9893897520001 25.97037512200006,...  13.32   \n",
       "\n",
       "                                                   x  \\\n",
       "0  [119.96445191400005, 119.96426754100003, 119.9...   \n",
       "1  [119.96469326400006, 119.96469944500005, 119.9...   \n",
       "2  [119.96432003900009, 119.96411690100001, 119.9...   \n",
       "3  [119.9848039630001, 119.98479340300003, 119.98...   \n",
       "4  [119.98536128400006, 119.98530636400007, 119.9...   \n",
       "5  [119.9893897520001, 119.98963574700008, 119.98...   \n",
       "\n",
       "                                                   y  \n",
       "0  [25.945523174000073, 25.945488368000042, 25.94...  \n",
       "1  [25.94687440200005, 25.946863776000043, 25.946...  \n",
       "2  [25.946381657000074, 25.946294144000035, 25.94...  \n",
       "3  [25.964295089000075, 25.964292340000043, 25.96...  \n",
       "4  [25.964614299000065, 25.964601334000065, 25.96...  \n",
       "5  [25.970375122000064, 25.970334440000045, 25.97...  "
      ]
     },
     "execution_count": 12,
     "metadata": {},
     "output_type": "execute_result"
    }
   ],
   "source": [
    "villages_shp.head(6)"
   ]
  },
  {
   "cell_type": "code",
   "execution_count": 13,
   "metadata": {},
   "outputs": [],
   "source": [
    "town_xs = villages_shp.x\n",
    "town_ys = villages_shp.y\n",
    "#town_name = villages_shp.COUNTYNAME + \", \" +  villages_shp.TOWNNAME\n",
    "town_name = villages_shp.COUNTYNAME\n",
    "town_rate = villages_shp.RATE"
   ]
  },
  {
   "cell_type": "code",
   "execution_count": 14,
   "metadata": {
    "scrolled": true
   },
   "outputs": [],
   "source": [
    "#villages_shp_source = GeoJSONDataSource(geojson=villages_shp.to_json())\n",
    "source = ColumnDataSource(data=dict(\n",
    "    x=town_xs,\n",
    "    y=town_ys,\n",
    "    name=town_name,\n",
    "    rate=town_rate, \n",
    "))\n",
    "\n",
    "TOOLTIPS = [\n",
    "    (\"Latitude\", \"$x\"),\n",
    "    (\"Longitude\", \"$y\"),\n",
    "    (\"County, Town\", \"@name\"), \n",
    "    (\"Rate\", \"@rate{%0.2f}%\")\n",
    "]\n",
    "color_mapper = LogColorMapper(palette=palette)# Color map\n",
    "#HoverTool.mode=\"vline\""
   ]
  },
  {
   "cell_type": "code",
   "execution_count": 15,
   "metadata": {},
   "outputs": [],
   "source": [
    "# Initialize our plot figure\n",
    "p = figure(title=\"Taiwan Map\", plot_width=1200, plot_height=900,\n",
    "          tools=\"pan,wheel_zoom,box_zoom,reset\")\n",
    "p.axis.visible=False\n",
    "p.add_tools(HoverTool(\n",
    "    tooltips=TOOLTIPS,\n",
    "    \n",
    "    formatters={\n",
    "        'rate' : 'printf',   # use 'printf' formatter for 'rate' field\n",
    "                             # use default 'numeral' formatter for other fields\n",
    "    },\n",
    "    # display a tooltip whenever the cursor is vertically in line with a glyph\n",
    "    #mode='vline'\n",
    "))\n",
    "\n",
    "p.grid.grid_line_color = None\n",
    "p.hover.point_policy = \"follow_mouse\"\n",
    "\n",
    "zoom_overlay = p.select_one(BoxZoomTool).overlay\n",
    "\n",
    "zoom_overlay.line_color = \"olive\"\n",
    "zoom_overlay.line_width = 5\n",
    "zoom_overlay.line_dash = \"solid\"\n",
    "zoom_overlay.fill_color = None"
   ]
  },
  {
   "cell_type": "code",
   "execution_count": 16,
   "metadata": {},
   "outputs": [
    {
     "data": {
      "text/html": [
       "<div style=\"display: table;\"><div style=\"display: table-row;\"><div style=\"display: table-cell;\"><b title=\"bokeh.models.renderers.GlyphRenderer\">GlyphRenderer</b>(</div><div style=\"display: table-cell;\">id&nbsp;=&nbsp;'1048', <span id=\"1051\" style=\"cursor: pointer;\">&hellip;)</span></div></div><div class=\"1050\" style=\"display: none;\"><div style=\"display: table-cell;\"></div><div style=\"display: table-cell;\">data_source&nbsp;=&nbsp;ColumnDataSource(id='1001', ...),</div></div><div class=\"1050\" style=\"display: none;\"><div style=\"display: table-cell;\"></div><div style=\"display: table-cell;\">glyph&nbsp;=&nbsp;Patches(id='1046', ...),</div></div><div class=\"1050\" style=\"display: none;\"><div style=\"display: table-cell;\"></div><div style=\"display: table-cell;\">hover_glyph&nbsp;=&nbsp;None,</div></div><div class=\"1050\" style=\"display: none;\"><div style=\"display: table-cell;\"></div><div style=\"display: table-cell;\">js_event_callbacks&nbsp;=&nbsp;{},</div></div><div class=\"1050\" style=\"display: none;\"><div style=\"display: table-cell;\"></div><div style=\"display: table-cell;\">js_property_callbacks&nbsp;=&nbsp;{},</div></div><div class=\"1050\" style=\"display: none;\"><div style=\"display: table-cell;\"></div><div style=\"display: table-cell;\">level&nbsp;=&nbsp;'glyph',</div></div><div class=\"1050\" style=\"display: none;\"><div style=\"display: table-cell;\"></div><div style=\"display: table-cell;\">muted&nbsp;=&nbsp;False,</div></div><div class=\"1050\" style=\"display: none;\"><div style=\"display: table-cell;\"></div><div style=\"display: table-cell;\">muted_glyph&nbsp;=&nbsp;None,</div></div><div class=\"1050\" style=\"display: none;\"><div style=\"display: table-cell;\"></div><div style=\"display: table-cell;\">name&nbsp;=&nbsp;None,</div></div><div class=\"1050\" style=\"display: none;\"><div style=\"display: table-cell;\"></div><div style=\"display: table-cell;\">nonselection_glyph&nbsp;=&nbsp;Patches(id='1047', ...),</div></div><div class=\"1050\" style=\"display: none;\"><div style=\"display: table-cell;\"></div><div style=\"display: table-cell;\">selection_glyph&nbsp;=&nbsp;None,</div></div><div class=\"1050\" style=\"display: none;\"><div style=\"display: table-cell;\"></div><div style=\"display: table-cell;\">subscribed_events&nbsp;=&nbsp;[],</div></div><div class=\"1050\" style=\"display: none;\"><div style=\"display: table-cell;\"></div><div style=\"display: table-cell;\">tags&nbsp;=&nbsp;[],</div></div><div class=\"1050\" style=\"display: none;\"><div style=\"display: table-cell;\"></div><div style=\"display: table-cell;\">view&nbsp;=&nbsp;CDSView(id='1049', ...),</div></div><div class=\"1050\" style=\"display: none;\"><div style=\"display: table-cell;\"></div><div style=\"display: table-cell;\">visible&nbsp;=&nbsp;True,</div></div><div class=\"1050\" style=\"display: none;\"><div style=\"display: table-cell;\"></div><div style=\"display: table-cell;\">x_range_name&nbsp;=&nbsp;'default',</div></div><div class=\"1050\" style=\"display: none;\"><div style=\"display: table-cell;\"></div><div style=\"display: table-cell;\">y_range_name&nbsp;=&nbsp;'default')</div></div></div>\n",
       "<script>\n",
       "(function() {\n",
       "  var expanded = false;\n",
       "  var ellipsis = document.getElementById(\"1051\");\n",
       "  ellipsis.addEventListener(\"click\", function() {\n",
       "    var rows = document.getElementsByClassName(\"1050\");\n",
       "    for (var i = 0; i < rows.length; i++) {\n",
       "      var el = rows[i];\n",
       "      el.style.display = expanded ? \"none\" : \"table-row\";\n",
       "    }\n",
       "    ellipsis.innerHTML = expanded ? \"&hellip;)\" : \"&lsaquo;&lsaquo;&lsaquo;\";\n",
       "    expanded = !expanded;\n",
       "  });\n",
       "})();\n",
       "</script>\n"
      ],
      "text/plain": [
       "GlyphRenderer(id='1048', ...)"
      ]
     },
     "execution_count": 16,
     "metadata": {},
     "output_type": "execute_result"
    }
   ],
   "source": [
    "# Add the lines to the map from our GeoJSONDataSource -object\n",
    "#p.multi_line('x', 'y', source=source, color='black', line_width=2)\n",
    "p.patches('x', 'y', source=source,\n",
    "          fill_color={'field': 'rate', 'transform': color_mapper},\n",
    "          fill_alpha=0.7, line_color=\"white\", line_width=0.3)"
   ]
  },
  {
   "cell_type": "code",
   "execution_count": 17,
   "metadata": {},
   "outputs": [
    {
     "ename": "ValueError",
     "evalue": "expected an element of List(String), got seq with invalid items [20, 30, 40]",
     "output_type": "error",
     "traceback": [
      "\u001b[0;31m---------------------------------------------------------------------------\u001b[0m",
      "\u001b[0;31mValueError\u001b[0m                                Traceback (most recent call last)",
      "\u001b[0;32m<ipython-input-17-93588c66fabe>\u001b[0m in \u001b[0;36m<module>\u001b[0;34m()\u001b[0m\n\u001b[1;32m     18\u001b[0m \u001b[0;31m# option\u001b[0m\u001b[0;34m\u001b[0m\u001b[0;34m\u001b[0m\u001b[0;34m\u001b[0m\u001b[0m\n\u001b[1;32m     19\u001b[0m option = RadioButtonGroup(labels=[20, 30 , 40],\n\u001b[0;32m---> 20\u001b[0;31m                           active=0, callback=callback)\n\u001b[0m",
      "\u001b[0;32m/usr/local/lib/python3.6/dist-packages/bokeh/model.py\u001b[0m in \u001b[0;36m__init__\u001b[0;34m(self, **kwargs)\u001b[0m\n\u001b[1;32m    259\u001b[0m         \u001b[0mself\u001b[0m\u001b[0;34m.\u001b[0m\u001b[0m_document\u001b[0m \u001b[0;34m=\u001b[0m \u001b[0;32mNone\u001b[0m\u001b[0;34m\u001b[0m\u001b[0;34m\u001b[0m\u001b[0m\n\u001b[1;32m    260\u001b[0m         \u001b[0mself\u001b[0m\u001b[0;34m.\u001b[0m\u001b[0m_temp_document\u001b[0m \u001b[0;34m=\u001b[0m \u001b[0;32mNone\u001b[0m\u001b[0;34m\u001b[0m\u001b[0;34m\u001b[0m\u001b[0m\n\u001b[0;32m--> 261\u001b[0;31m         \u001b[0msuper\u001b[0m\u001b[0;34m(\u001b[0m\u001b[0mModel\u001b[0m\u001b[0;34m,\u001b[0m \u001b[0mself\u001b[0m\u001b[0;34m)\u001b[0m\u001b[0;34m.\u001b[0m\u001b[0m__init__\u001b[0m\u001b[0;34m(\u001b[0m\u001b[0;34m**\u001b[0m\u001b[0mkwargs\u001b[0m\u001b[0;34m)\u001b[0m\u001b[0;34m\u001b[0m\u001b[0;34m\u001b[0m\u001b[0m\n\u001b[0m\u001b[1;32m    262\u001b[0m         \u001b[0mdefault_theme\u001b[0m\u001b[0;34m.\u001b[0m\u001b[0mapply_to_model\u001b[0m\u001b[0;34m(\u001b[0m\u001b[0mself\u001b[0m\u001b[0;34m)\u001b[0m\u001b[0;34m\u001b[0m\u001b[0;34m\u001b[0m\u001b[0m\n\u001b[1;32m    263\u001b[0m \u001b[0;34m\u001b[0m\u001b[0m\n",
      "\u001b[0;32m/usr/local/lib/python3.6/dist-packages/bokeh/core/has_props.py\u001b[0m in \u001b[0;36m__init__\u001b[0;34m(self, **properties)\u001b[0m\n\u001b[1;32m    252\u001b[0m \u001b[0;34m\u001b[0m\u001b[0m\n\u001b[1;32m    253\u001b[0m         \u001b[0;32mfor\u001b[0m \u001b[0mname\u001b[0m\u001b[0;34m,\u001b[0m \u001b[0mvalue\u001b[0m \u001b[0;32min\u001b[0m \u001b[0mproperties\u001b[0m\u001b[0;34m.\u001b[0m\u001b[0mitems\u001b[0m\u001b[0;34m(\u001b[0m\u001b[0;34m)\u001b[0m\u001b[0;34m:\u001b[0m\u001b[0;34m\u001b[0m\u001b[0;34m\u001b[0m\u001b[0m\n\u001b[0;32m--> 254\u001b[0;31m             \u001b[0msetattr\u001b[0m\u001b[0;34m(\u001b[0m\u001b[0mself\u001b[0m\u001b[0;34m,\u001b[0m \u001b[0mname\u001b[0m\u001b[0;34m,\u001b[0m \u001b[0mvalue\u001b[0m\u001b[0;34m)\u001b[0m\u001b[0;34m\u001b[0m\u001b[0;34m\u001b[0m\u001b[0m\n\u001b[0m\u001b[1;32m    255\u001b[0m \u001b[0;34m\u001b[0m\u001b[0m\n\u001b[1;32m    256\u001b[0m     \u001b[0;32mdef\u001b[0m \u001b[0m__setattr__\u001b[0m\u001b[0;34m(\u001b[0m\u001b[0mself\u001b[0m\u001b[0;34m,\u001b[0m \u001b[0mname\u001b[0m\u001b[0;34m,\u001b[0m \u001b[0mvalue\u001b[0m\u001b[0;34m)\u001b[0m\u001b[0;34m:\u001b[0m\u001b[0;34m\u001b[0m\u001b[0;34m\u001b[0m\u001b[0m\n",
      "\u001b[0;32m/usr/local/lib/python3.6/dist-packages/bokeh/core/has_props.py\u001b[0m in \u001b[0;36m__setattr__\u001b[0;34m(self, name, value)\u001b[0m\n\u001b[1;32m    279\u001b[0m \u001b[0;34m\u001b[0m\u001b[0m\n\u001b[1;32m    280\u001b[0m         \u001b[0;32mif\u001b[0m \u001b[0mname\u001b[0m \u001b[0;32min\u001b[0m \u001b[0mprops\u001b[0m \u001b[0;32mor\u001b[0m \u001b[0;34m(\u001b[0m\u001b[0mdescriptor\u001b[0m \u001b[0;32mis\u001b[0m \u001b[0;32mnot\u001b[0m \u001b[0;32mNone\u001b[0m \u001b[0;32mand\u001b[0m \u001b[0mdescriptor\u001b[0m\u001b[0;34m.\u001b[0m\u001b[0mfset\u001b[0m \u001b[0;32mis\u001b[0m \u001b[0;32mnot\u001b[0m \u001b[0;32mNone\u001b[0m\u001b[0;34m)\u001b[0m\u001b[0;34m:\u001b[0m\u001b[0;34m\u001b[0m\u001b[0;34m\u001b[0m\u001b[0m\n\u001b[0;32m--> 281\u001b[0;31m             \u001b[0msuper\u001b[0m\u001b[0;34m(\u001b[0m\u001b[0mHasProps\u001b[0m\u001b[0;34m,\u001b[0m \u001b[0mself\u001b[0m\u001b[0;34m)\u001b[0m\u001b[0;34m.\u001b[0m\u001b[0m__setattr__\u001b[0m\u001b[0;34m(\u001b[0m\u001b[0mname\u001b[0m\u001b[0;34m,\u001b[0m \u001b[0mvalue\u001b[0m\u001b[0;34m)\u001b[0m\u001b[0;34m\u001b[0m\u001b[0;34m\u001b[0m\u001b[0m\n\u001b[0m\u001b[1;32m    282\u001b[0m         \u001b[0;32melse\u001b[0m\u001b[0;34m:\u001b[0m\u001b[0;34m\u001b[0m\u001b[0;34m\u001b[0m\u001b[0m\n\u001b[1;32m    283\u001b[0m             \u001b[0mmatches\u001b[0m\u001b[0;34m,\u001b[0m \u001b[0mtext\u001b[0m \u001b[0;34m=\u001b[0m \u001b[0mdifflib\u001b[0m\u001b[0;34m.\u001b[0m\u001b[0mget_close_matches\u001b[0m\u001b[0;34m(\u001b[0m\u001b[0mname\u001b[0m\u001b[0;34m.\u001b[0m\u001b[0mlower\u001b[0m\u001b[0;34m(\u001b[0m\u001b[0;34m)\u001b[0m\u001b[0;34m,\u001b[0m \u001b[0mprops\u001b[0m\u001b[0;34m)\u001b[0m\u001b[0;34m,\u001b[0m \u001b[0;34m\"similar\"\u001b[0m\u001b[0;34m\u001b[0m\u001b[0;34m\u001b[0m\u001b[0m\n",
      "\u001b[0;32m/usr/local/lib/python3.6/dist-packages/bokeh/core/property/descriptors.py\u001b[0m in \u001b[0;36m__set__\u001b[0;34m(self, obj, value, setter)\u001b[0m\n\u001b[1;32m    544\u001b[0m             \u001b[0;32mraise\u001b[0m \u001b[0mRuntimeError\u001b[0m\u001b[0;34m(\u001b[0m\u001b[0;34m\"%s.%s is a readonly property\"\u001b[0m \u001b[0;34m%\u001b[0m \u001b[0;34m(\u001b[0m\u001b[0mobj\u001b[0m\u001b[0;34m.\u001b[0m\u001b[0m__class__\u001b[0m\u001b[0;34m.\u001b[0m\u001b[0m__name__\u001b[0m\u001b[0;34m,\u001b[0m \u001b[0mself\u001b[0m\u001b[0;34m.\u001b[0m\u001b[0mname\u001b[0m\u001b[0;34m)\u001b[0m\u001b[0;34m)\u001b[0m\u001b[0;34m\u001b[0m\u001b[0;34m\u001b[0m\u001b[0m\n\u001b[1;32m    545\u001b[0m \u001b[0;34m\u001b[0m\u001b[0m\n\u001b[0;32m--> 546\u001b[0;31m         \u001b[0mself\u001b[0m\u001b[0;34m.\u001b[0m\u001b[0m_internal_set\u001b[0m\u001b[0;34m(\u001b[0m\u001b[0mobj\u001b[0m\u001b[0;34m,\u001b[0m \u001b[0mvalue\u001b[0m\u001b[0;34m,\u001b[0m \u001b[0msetter\u001b[0m\u001b[0;34m=\u001b[0m\u001b[0msetter\u001b[0m\u001b[0;34m)\u001b[0m\u001b[0;34m\u001b[0m\u001b[0;34m\u001b[0m\u001b[0m\n\u001b[0m\u001b[1;32m    547\u001b[0m \u001b[0;34m\u001b[0m\u001b[0m\n\u001b[1;32m    548\u001b[0m     \u001b[0;32mdef\u001b[0m \u001b[0m__delete__\u001b[0m\u001b[0;34m(\u001b[0m\u001b[0mself\u001b[0m\u001b[0;34m,\u001b[0m \u001b[0mobj\u001b[0m\u001b[0;34m)\u001b[0m\u001b[0;34m:\u001b[0m\u001b[0;34m\u001b[0m\u001b[0;34m\u001b[0m\u001b[0m\n",
      "\u001b[0;32m/usr/local/lib/python3.6/dist-packages/bokeh/core/property/descriptors.py\u001b[0m in \u001b[0;36m_internal_set\u001b[0;34m(self, obj, value, hint, setter)\u001b[0m\n\u001b[1;32m    765\u001b[0m \u001b[0;34m\u001b[0m\u001b[0m\n\u001b[1;32m    766\u001b[0m         '''\n\u001b[0;32m--> 767\u001b[0;31m         \u001b[0mvalue\u001b[0m \u001b[0;34m=\u001b[0m \u001b[0mself\u001b[0m\u001b[0;34m.\u001b[0m\u001b[0mproperty\u001b[0m\u001b[0;34m.\u001b[0m\u001b[0mprepare_value\u001b[0m\u001b[0;34m(\u001b[0m\u001b[0mobj\u001b[0m\u001b[0;34m,\u001b[0m \u001b[0mself\u001b[0m\u001b[0;34m.\u001b[0m\u001b[0mname\u001b[0m\u001b[0;34m,\u001b[0m \u001b[0mvalue\u001b[0m\u001b[0;34m)\u001b[0m\u001b[0;34m\u001b[0m\u001b[0;34m\u001b[0m\u001b[0m\n\u001b[0m\u001b[1;32m    768\u001b[0m \u001b[0;34m\u001b[0m\u001b[0m\n\u001b[1;32m    769\u001b[0m         \u001b[0mold\u001b[0m \u001b[0;34m=\u001b[0m \u001b[0mself\u001b[0m\u001b[0;34m.\u001b[0m\u001b[0m__get__\u001b[0m\u001b[0;34m(\u001b[0m\u001b[0mobj\u001b[0m\u001b[0;34m,\u001b[0m \u001b[0mobj\u001b[0m\u001b[0;34m.\u001b[0m\u001b[0m__class__\u001b[0m\u001b[0;34m)\u001b[0m\u001b[0;34m\u001b[0m\u001b[0;34m\u001b[0m\u001b[0m\n",
      "\u001b[0;32m/usr/local/lib/python3.6/dist-packages/bokeh/core/property/bases.py\u001b[0m in \u001b[0;36mprepare_value\u001b[0;34m(self, obj_or_cls, name, value)\u001b[0m\n\u001b[1;32m    326\u001b[0m                     \u001b[0;32mbreak\u001b[0m\u001b[0;34m\u001b[0m\u001b[0;34m\u001b[0m\u001b[0m\n\u001b[1;32m    327\u001b[0m             \u001b[0;32melse\u001b[0m\u001b[0;34m:\u001b[0m\u001b[0;34m\u001b[0m\u001b[0;34m\u001b[0m\u001b[0m\n\u001b[0;32m--> 328\u001b[0;31m                 \u001b[0;32mraise\u001b[0m \u001b[0me\u001b[0m\u001b[0;34m\u001b[0m\u001b[0;34m\u001b[0m\u001b[0m\n\u001b[0m\u001b[1;32m    329\u001b[0m         \u001b[0;32melse\u001b[0m\u001b[0;34m:\u001b[0m\u001b[0;34m\u001b[0m\u001b[0;34m\u001b[0m\u001b[0m\n\u001b[1;32m    330\u001b[0m             \u001b[0mvalue\u001b[0m \u001b[0;34m=\u001b[0m \u001b[0mself\u001b[0m\u001b[0;34m.\u001b[0m\u001b[0mtransform\u001b[0m\u001b[0;34m(\u001b[0m\u001b[0mvalue\u001b[0m\u001b[0;34m)\u001b[0m\u001b[0;34m\u001b[0m\u001b[0;34m\u001b[0m\u001b[0m\n",
      "\u001b[0;32m/usr/local/lib/python3.6/dist-packages/bokeh/core/property/bases.py\u001b[0m in \u001b[0;36mprepare_value\u001b[0;34m(self, obj_or_cls, name, value)\u001b[0m\n\u001b[1;32m    319\u001b[0m         \u001b[0;32mtry\u001b[0m\u001b[0;34m:\u001b[0m\u001b[0;34m\u001b[0m\u001b[0;34m\u001b[0m\u001b[0m\n\u001b[1;32m    320\u001b[0m             \u001b[0;32mif\u001b[0m \u001b[0mvalidation_on\u001b[0m\u001b[0;34m(\u001b[0m\u001b[0;34m)\u001b[0m\u001b[0;34m:\u001b[0m\u001b[0;34m\u001b[0m\u001b[0;34m\u001b[0m\u001b[0m\n\u001b[0;32m--> 321\u001b[0;31m                 \u001b[0mself\u001b[0m\u001b[0;34m.\u001b[0m\u001b[0mvalidate\u001b[0m\u001b[0;34m(\u001b[0m\u001b[0mvalue\u001b[0m\u001b[0;34m)\u001b[0m\u001b[0;34m\u001b[0m\u001b[0;34m\u001b[0m\u001b[0m\n\u001b[0m\u001b[1;32m    322\u001b[0m         \u001b[0;32mexcept\u001b[0m \u001b[0mValueError\u001b[0m \u001b[0;32mas\u001b[0m \u001b[0me\u001b[0m\u001b[0;34m:\u001b[0m\u001b[0;34m\u001b[0m\u001b[0;34m\u001b[0m\u001b[0m\n\u001b[1;32m    323\u001b[0m             \u001b[0;32mfor\u001b[0m \u001b[0mtp\u001b[0m\u001b[0;34m,\u001b[0m \u001b[0mconverter\u001b[0m \u001b[0;32min\u001b[0m \u001b[0mself\u001b[0m\u001b[0;34m.\u001b[0m\u001b[0malternatives\u001b[0m\u001b[0;34m:\u001b[0m\u001b[0;34m\u001b[0m\u001b[0;34m\u001b[0m\u001b[0m\n",
      "\u001b[0;32m/usr/local/lib/python3.6/dist-packages/bokeh/core/property/container.py\u001b[0m in \u001b[0;36mvalidate\u001b[0;34m(self, value, detail)\u001b[0m\n\u001b[1;32m     89\u001b[0m                             \u001b[0minvalid\u001b[0m\u001b[0;34m.\u001b[0m\u001b[0mappend\u001b[0m\u001b[0;34m(\u001b[0m\u001b[0mitem\u001b[0m\u001b[0;34m)\u001b[0m\u001b[0;34m\u001b[0m\u001b[0;34m\u001b[0m\u001b[0m\n\u001b[1;32m     90\u001b[0m                     \u001b[0mmsg\u001b[0m \u001b[0;34m=\u001b[0m \u001b[0;34m\"\"\u001b[0m \u001b[0;32mif\u001b[0m \u001b[0;32mnot\u001b[0m \u001b[0mdetail\u001b[0m \u001b[0;32melse\u001b[0m \u001b[0;34m\"expected an element of %s, got seq with invalid items %r\"\u001b[0m \u001b[0;34m%\u001b[0m \u001b[0;34m(\u001b[0m\u001b[0mself\u001b[0m\u001b[0;34m,\u001b[0m \u001b[0minvalid\u001b[0m\u001b[0;34m)\u001b[0m\u001b[0;34m\u001b[0m\u001b[0;34m\u001b[0m\u001b[0m\n\u001b[0;32m---> 91\u001b[0;31m                     \u001b[0;32mraise\u001b[0m \u001b[0mValueError\u001b[0m\u001b[0;34m(\u001b[0m\u001b[0mmsg\u001b[0m\u001b[0;34m)\u001b[0m\u001b[0;34m\u001b[0m\u001b[0;34m\u001b[0m\u001b[0m\n\u001b[0m\u001b[1;32m     92\u001b[0m                 \u001b[0;32melse\u001b[0m\u001b[0;34m:\u001b[0m\u001b[0;34m\u001b[0m\u001b[0;34m\u001b[0m\u001b[0m\n\u001b[1;32m     93\u001b[0m                     \u001b[0mmsg\u001b[0m \u001b[0;34m=\u001b[0m \u001b[0;34m\"\"\u001b[0m \u001b[0;32mif\u001b[0m \u001b[0;32mnot\u001b[0m \u001b[0mdetail\u001b[0m \u001b[0;32melse\u001b[0m \u001b[0;34m\"expected an element of %s, got %r\"\u001b[0m \u001b[0;34m%\u001b[0m \u001b[0;34m(\u001b[0m\u001b[0mself\u001b[0m\u001b[0;34m,\u001b[0m \u001b[0mvalue\u001b[0m\u001b[0;34m)\u001b[0m\u001b[0;34m\u001b[0m\u001b[0;34m\u001b[0m\u001b[0m\n",
      "\u001b[0;31mValueError\u001b[0m: expected an element of List(String), got seq with invalid items [20, 30, 40]"
     ]
    }
   ],
   "source": [
    "# add callback to control \n",
    "callback = CustomJS(args=dict(p=p, source=source), code=\"\"\"\n",
    "\n",
    "            var radio_value = cb_obj.get('value');\n",
    "            var data = source.data; \n",
    "            rate = data['rate']\n",
    "\n",
    "            for (i = 0; i < rate.length; i++) {\n",
    "                if(rate[i] >= radio_value) {\n",
    "                    rate[i] = rate[i];\n",
    "                } else {\n",
    "                    rate[i] = undefined;\n",
    "                }\n",
    "            }\n",
    "        source.change.emit();\n",
    "        \"\"\")\n",
    "\n",
    "# option\n",
    "option = RadioButtonGroup(labels=[\"20\", \"30\", \"40\"],\n",
    "                          active=0, callback=callback)"
   ]
  },
  {
   "cell_type": "code",
   "execution_count": null,
   "metadata": {},
   "outputs": [],
   "source": [
    "output_file(\"taiwanmap.html\")\n",
    "#output_notebook()"
   ]
  },
  {
   "cell_type": "code",
   "execution_count": null,
   "metadata": {
    "scrolled": false
   },
   "outputs": [],
   "source": [
    "#show(p)\n",
    "save(row(p, option), title=\"taiwanmap\")"
   ]
  },
  {
   "cell_type": "code",
   "execution_count": null,
   "metadata": {},
   "outputs": [],
   "source": [
    "#source.data['x']"
   ]
  },
  {
   "cell_type": "code",
   "execution_count": null,
   "metadata": {},
   "outputs": [],
   "source": []
  }
 ],
 "metadata": {
  "kernelspec": {
   "display_name": "Python 3",
   "language": "python",
   "name": "python3"
  },
  "language_info": {
   "codemirror_mode": {
    "name": "ipython",
    "version": 3
   },
   "file_extension": ".py",
   "mimetype": "text/x-python",
   "name": "python",
   "nbconvert_exporter": "python",
   "pygments_lexer": "ipython3",
   "version": "3.6.7"
  }
 },
 "nbformat": 4,
 "nbformat_minor": 2
}
