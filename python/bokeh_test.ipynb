{
 "cells": [
  {
   "cell_type": "code",
   "execution_count": 1,
   "metadata": {},
   "outputs": [
    {
     "name": "stderr",
     "output_type": "stream",
     "text": [
      "c:\\users\\user\\appdata\\local\\programs\\python\\python36\\lib\\site-packages\\pysal\\__init__.py:65: VisibleDeprecationWarning: PySAL's API will be changed on 2018-12-31. The last release made with this API is version 1.14.4. A preview of the next API version is provided in the `pysal` 2.0 prelease candidate. The API changes and a guide on how to change imports is provided at https://pysal.org/about\n",
      "  ), VisibleDeprecationWarning)\n"
     ]
    }
   ],
   "source": [
    "from bokeh.plotting import figure, save, show, output_file, output_notebook\n",
    "from bokeh.models import GeoJSONDataSource, ColumnDataSource, Range1d\n",
    "from bokeh.resources import CDN\n",
    "from bokeh.tile_providers import CARTODBPOSITRON_RETINA\n",
    "import pysal as ps\n",
    "import geopandas as gpd\n",
    "import matplotlib.pyplot as plt\n",
    "import numpy as np\n",
    "import pandas as pd"
   ]
  },
  {
   "cell_type": "code",
   "execution_count": 2,
   "metadata": {},
   "outputs": [],
   "source": [
    "PATH = r\"mapdata/TOWN_MOI_1071031.shp\"\n",
    "villages_shp = gpd.read_file(PATH, encoding='utf-8') #全台灣村里界圖\n",
    "villages_shp = villages_shp.to_crs({'init' :'epsg:4326'})"
   ]
  },
  {
   "cell_type": "code",
   "execution_count": 3,
   "metadata": {},
   "outputs": [
    {
     "data": {
      "text/html": [
       "<div>\n",
       "<style scoped>\n",
       "    .dataframe tbody tr th:only-of-type {\n",
       "        vertical-align: middle;\n",
       "    }\n",
       "\n",
       "    .dataframe tbody tr th {\n",
       "        vertical-align: top;\n",
       "    }\n",
       "\n",
       "    .dataframe thead th {\n",
       "        text-align: right;\n",
       "    }\n",
       "</style>\n",
       "<table border=\"1\" class=\"dataframe\">\n",
       "  <thead>\n",
       "    <tr style=\"text-align: right;\">\n",
       "      <th></th>\n",
       "      <th>TOWNID</th>\n",
       "      <th>TOWNCODE</th>\n",
       "      <th>COUNTYNAME</th>\n",
       "      <th>TOWNNAME</th>\n",
       "      <th>TOWNENG</th>\n",
       "      <th>COUNTYID</th>\n",
       "      <th>COUNTYCODE</th>\n",
       "      <th>geometry</th>\n",
       "    </tr>\n",
       "  </thead>\n",
       "  <tbody>\n",
       "    <tr>\n",
       "      <th>0</th>\n",
       "      <td>V02</td>\n",
       "      <td>10014020</td>\n",
       "      <td>臺東縣</td>\n",
       "      <td>成功鎮</td>\n",
       "      <td>Chenggong Township</td>\n",
       "      <td>V</td>\n",
       "      <td>10014</td>\n",
       "      <td>POLYGON ((121.409815737 23.21369278500009, 121...</td>\n",
       "    </tr>\n",
       "    <tr>\n",
       "      <th>1</th>\n",
       "      <td>T21</td>\n",
       "      <td>10013210</td>\n",
       "      <td>屏東縣</td>\n",
       "      <td>佳冬鄉</td>\n",
       "      <td>Jiadong Township</td>\n",
       "      <td>T</td>\n",
       "      <td>10013</td>\n",
       "      <td>POLYGON ((120.5484580210001 22.46067220300006,...</td>\n",
       "    </tr>\n",
       "    <tr>\n",
       "      <th>2</th>\n",
       "      <td>P13</td>\n",
       "      <td>10009130</td>\n",
       "      <td>雲林縣</td>\n",
       "      <td>麥寮鄉</td>\n",
       "      <td>Mailiao Township</td>\n",
       "      <td>P</td>\n",
       "      <td>10009</td>\n",
       "      <td>POLYGON ((120.3019750420001 23.81624614400005,...</td>\n",
       "    </tr>\n",
       "    <tr>\n",
       "      <th>3</th>\n",
       "      <td>V11</td>\n",
       "      <td>10014110</td>\n",
       "      <td>臺東縣</td>\n",
       "      <td>綠島鄉</td>\n",
       "      <td>Lvdao Township</td>\n",
       "      <td>V</td>\n",
       "      <td>10014</td>\n",
       "      <td>(POLYGON ((121.491547243 22.67745703900005, 12...</td>\n",
       "    </tr>\n",
       "    <tr>\n",
       "      <th>4</th>\n",
       "      <td>V16</td>\n",
       "      <td>10014160</td>\n",
       "      <td>臺東縣</td>\n",
       "      <td>蘭嶼鄉</td>\n",
       "      <td>Lanyu Township</td>\n",
       "      <td>V</td>\n",
       "      <td>10014</td>\n",
       "      <td>(POLYGON ((121.6117956420001 21.94289657000007...</td>\n",
       "    </tr>\n",
       "  </tbody>\n",
       "</table>\n",
       "</div>"
      ],
      "text/plain": [
       "  TOWNID  TOWNCODE COUNTYNAME TOWNNAME             TOWNENG COUNTYID  \\\n",
       "0    V02  10014020        臺東縣      成功鎮  Chenggong Township        V   \n",
       "1    T21  10013210        屏東縣      佳冬鄉    Jiadong Township        T   \n",
       "2    P13  10009130        雲林縣      麥寮鄉    Mailiao Township        P   \n",
       "3    V11  10014110        臺東縣      綠島鄉      Lvdao Township        V   \n",
       "4    V16  10014160        臺東縣      蘭嶼鄉      Lanyu Township        V   \n",
       "\n",
       "  COUNTYCODE                                           geometry  \n",
       "0      10014  POLYGON ((121.409815737 23.21369278500009, 121...  \n",
       "1      10013  POLYGON ((120.5484580210001 22.46067220300006,...  \n",
       "2      10009  POLYGON ((120.3019750420001 23.81624614400005,...  \n",
       "3      10014  (POLYGON ((121.491547243 22.67745703900005, 12...  \n",
       "4      10014  (POLYGON ((121.6117956420001 21.94289657000007...  "
      ]
     },
     "execution_count": 3,
     "metadata": {},
     "output_type": "execute_result"
    }
   ],
   "source": [
    "villages_shp.head()"
   ]
  },
  {
   "cell_type": "code",
   "execution_count": 4,
   "metadata": {},
   "outputs": [],
   "source": [
    "def cartesian(x): \n",
    "    return np.vstack(np.array([np.array(np.meshgrid(*i)).T.reshape(-1,8) for i in x.values]))"
   ]
  },
  {
   "cell_type": "code",
   "execution_count": null,
   "metadata": {},
   "outputs": [],
   "source": [
    "villages_shp = gpd.GeoDataFrame(cartesian(villages_shp),columns=villages_shp.columns)"
   ]
  },
  {
   "cell_type": "code",
   "execution_count": null,
   "metadata": {},
   "outputs": [
    {
     "data": {
      "text/html": [
       "<div>\n",
       "<style scoped>\n",
       "    .dataframe tbody tr th:only-of-type {\n",
       "        vertical-align: middle;\n",
       "    }\n",
       "\n",
       "    .dataframe tbody tr th {\n",
       "        vertical-align: top;\n",
       "    }\n",
       "\n",
       "    .dataframe thead th {\n",
       "        text-align: right;\n",
       "    }\n",
       "</style>\n",
       "<table border=\"1\" class=\"dataframe\">\n",
       "  <thead>\n",
       "    <tr style=\"text-align: right;\">\n",
       "      <th></th>\n",
       "      <th>TOWNID</th>\n",
       "      <th>TOWNCODE</th>\n",
       "      <th>COUNTYNAME</th>\n",
       "      <th>TOWNNAME</th>\n",
       "      <th>TOWNENG</th>\n",
       "      <th>COUNTYID</th>\n",
       "      <th>COUNTYCODE</th>\n",
       "      <th>geometry</th>\n",
       "    </tr>\n",
       "  </thead>\n",
       "  <tbody>\n",
       "    <tr>\n",
       "      <th>0</th>\n",
       "      <td>V02</td>\n",
       "      <td>10014020</td>\n",
       "      <td>臺東縣</td>\n",
       "      <td>成功鎮</td>\n",
       "      <td>Chenggong Township</td>\n",
       "      <td>V</td>\n",
       "      <td>10014</td>\n",
       "      <td>POLYGON ((121.409815737 23.21369278500009, 121...</td>\n",
       "    </tr>\n",
       "    <tr>\n",
       "      <th>1</th>\n",
       "      <td>T21</td>\n",
       "      <td>10013210</td>\n",
       "      <td>屏東縣</td>\n",
       "      <td>佳冬鄉</td>\n",
       "      <td>Jiadong Township</td>\n",
       "      <td>T</td>\n",
       "      <td>10013</td>\n",
       "      <td>POLYGON ((120.5484580210001 22.46067220300006,...</td>\n",
       "    </tr>\n",
       "    <tr>\n",
       "      <th>2</th>\n",
       "      <td>P13</td>\n",
       "      <td>10009130</td>\n",
       "      <td>雲林縣</td>\n",
       "      <td>麥寮鄉</td>\n",
       "      <td>Mailiao Township</td>\n",
       "      <td>P</td>\n",
       "      <td>10009</td>\n",
       "      <td>POLYGON ((120.3019750420001 23.81624614400005,...</td>\n",
       "    </tr>\n",
       "    <tr>\n",
       "      <th>3</th>\n",
       "      <td>V11</td>\n",
       "      <td>10014110</td>\n",
       "      <td>臺東縣</td>\n",
       "      <td>綠島鄉</td>\n",
       "      <td>Lvdao Township</td>\n",
       "      <td>V</td>\n",
       "      <td>10014</td>\n",
       "      <td>POLYGON ((121.491547243 22.67745703900005, 121...</td>\n",
       "    </tr>\n",
       "    <tr>\n",
       "      <th>4</th>\n",
       "      <td>V11</td>\n",
       "      <td>10014110</td>\n",
       "      <td>臺東縣</td>\n",
       "      <td>綠島鄉</td>\n",
       "      <td>Lvdao Township</td>\n",
       "      <td>V</td>\n",
       "      <td>10014</td>\n",
       "      <td>POLYGON ((121.512131544 22.68070962500008, 121...</td>\n",
       "    </tr>\n",
       "    <tr>\n",
       "      <th>5</th>\n",
       "      <td>V16</td>\n",
       "      <td>10014160</td>\n",
       "      <td>臺東縣</td>\n",
       "      <td>蘭嶼鄉</td>\n",
       "      <td>Lanyu Township</td>\n",
       "      <td>V</td>\n",
       "      <td>10014</td>\n",
       "      <td>POLYGON ((121.6117956420001 21.94289657000007,...</td>\n",
       "    </tr>\n",
       "  </tbody>\n",
       "</table>\n",
       "</div>"
      ],
      "text/plain": [
       "  TOWNID  TOWNCODE COUNTYNAME TOWNNAME             TOWNENG COUNTYID  \\\n",
       "0    V02  10014020        臺東縣      成功鎮  Chenggong Township        V   \n",
       "1    T21  10013210        屏東縣      佳冬鄉    Jiadong Township        T   \n",
       "2    P13  10009130        雲林縣      麥寮鄉    Mailiao Township        P   \n",
       "3    V11  10014110        臺東縣      綠島鄉      Lvdao Township        V   \n",
       "4    V11  10014110        臺東縣      綠島鄉      Lvdao Township        V   \n",
       "5    V16  10014160        臺東縣      蘭嶼鄉      Lanyu Township        V   \n",
       "\n",
       "  COUNTYCODE                                           geometry  \n",
       "0      10014  POLYGON ((121.409815737 23.21369278500009, 121...  \n",
       "1      10013  POLYGON ((120.5484580210001 22.46067220300006,...  \n",
       "2      10009  POLYGON ((120.3019750420001 23.81624614400005,...  \n",
       "3      10014  POLYGON ((121.491547243 22.67745703900005, 121...  \n",
       "4      10014  POLYGON ((121.512131544 22.68070962500008, 121...  \n",
       "5      10014  POLYGON ((121.6117956420001 21.94289657000007,...  "
      ]
     },
     "execution_count": 6,
     "metadata": {},
     "output_type": "execute_result"
    }
   ],
   "source": [
    "villages_shp.head(6)"
   ]
  },
  {
   "cell_type": "code",
   "execution_count": null,
   "metadata": {},
   "outputs": [],
   "source": [
    "def getPolyCoords(row, geom, coord_type):\n",
    "    \"\"\"Returns the coordinates ('x' or 'y') of edges of a Polygon exterior\"\"\"\n",
    "\n",
    "    # Parse the exterior of the coordinate\n",
    "    exterior = row[geom].exterior\n",
    "\n",
    "    if coord_type == 'x':\n",
    "        # Get the x coordinates of the exterior\n",
    "        return list( exterior.coords.xy[0] )\n",
    "    elif coord_type == 'y':\n",
    "        # Get the y coordinates of the exterior\n",
    "        return list( exterior.coords.xy[1] )"
   ]
  },
  {
   "cell_type": "code",
   "execution_count": null,
   "metadata": {},
   "outputs": [],
   "source": [
    "villages_shp['x'] = villages_shp.apply(getPolyCoords, geom='geometry', coord_type='x', axis=1)\n",
    "villages_shp['y'] = villages_shp.apply(getPolyCoords, geom='geometry', coord_type='y', axis=1)"
   ]
  },
  {
   "cell_type": "code",
   "execution_count": null,
   "metadata": {},
   "outputs": [],
   "source": [
    "#villages_shp[['x', 'y']].head(6)\n",
    "villages_shp.head(6)"
   ]
  },
  {
   "cell_type": "code",
   "execution_count": null,
   "metadata": {
    "scrolled": true
   },
   "outputs": [],
   "source": [
    "#villages_shp_source = GeoJSONDataSource(geojson=villages_shp.to_json())\n",
    "source = ColumnDataSource(data=dict(\n",
    "    lat=villages_shp.x,\n",
    "    lon=villages_shp.y,\n",
    "    cty=villages_shp.COUNTYNAME + \", \" + villages_shp.TOWNNAME\n",
    "))\n",
    "\n",
    "TOOLTIPS = [\n",
    "    (\"Latitude\", \"$lat\"),\n",
    "    (\"Longitude\", \"$lon\"),\n",
    "    (\"County\", \"@cty\"),   \n",
    "]\n",
    "#HoverTool.mode=\"vline\""
   ]
  },
  {
   "cell_type": "code",
   "execution_count": null,
   "metadata": {},
   "outputs": [],
   "source": [
    "# Initialize our plot figure\n",
    "p = figure(title=\"Taiwan Map\", output_backend=\"webgl\", plot_width=800, plot_height=600,\n",
    "          tools=\"pan,wheel_zoom,box_zoom,reset,hover\",\n",
    "          tooltips=TOOLTIPS)"
   ]
  },
  {
   "cell_type": "code",
   "execution_count": null,
   "metadata": {},
   "outputs": [],
   "source": [
    "# Add the lines to the map from our GeoJSONDataSource -object\n",
    "p.multi_line('x', 'y', source=source, color='black', line_width=2)"
   ]
  },
  {
   "cell_type": "code",
   "execution_count": null,
   "metadata": {},
   "outputs": [],
   "source": [
    "#output_file(\"taiwanmap.html\")\n",
    "output_notebook()"
   ]
  },
  {
   "cell_type": "code",
   "execution_count": null,
   "metadata": {
    "scrolled": false
   },
   "outputs": [],
   "source": [
    "show(p)\n",
    "#save(p, title=\"taiwanmap\")"
   ]
  },
  {
   "cell_type": "code",
   "execution_count": null,
   "metadata": {},
   "outputs": [],
   "source": []
  }
 ],
 "metadata": {
  "kernelspec": {
   "display_name": "Python 3",
   "language": "python",
   "name": "python3"
  },
  "language_info": {
   "codemirror_mode": {
    "name": "ipython",
    "version": 3
   },
   "file_extension": ".py",
   "mimetype": "text/x-python",
   "name": "python",
   "nbconvert_exporter": "python",
   "pygments_lexer": "ipython3",
   "version": "3.6.7"
  }
 },
 "nbformat": 4,
 "nbformat_minor": 2
}
